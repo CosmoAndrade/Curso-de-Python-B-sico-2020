{
 "cells": [
  {
   "cell_type": "markdown",
   "metadata": {},
   "source": [
    "# print()\n",
    "- Saída de dados\n",
    "- Imprime o código "
   ]
  },
  {
   "cell_type": "code",
   "execution_count": 1,
   "metadata": {},
   "outputs": [
    {
     "name": "stdout",
     "output_type": "stream",
     "text": [
      "Olá Mundo!\n"
     ]
    }
   ],
   "source": [
    "# Textos\n",
    "print ('Olá Mundo!')"
   ]
  },
  {
   "cell_type": "code",
   "execution_count": 2,
   "metadata": {},
   "outputs": [
    {
     "name": "stdout",
     "output_type": "stream",
     "text": [
      "2020\n",
      "13\n"
     ]
    }
   ],
   "source": [
    "# Números e operações matemáticas\n",
    "print (2020)\n",
    "print (5 + 8)"
   ]
  },
  {
   "cell_type": "code",
   "execution_count": null,
   "metadata": {},
   "outputs": [],
   "source": [
    "# Variáveis\n",
    "nome = 'Cosmo'\n",
    "print (nome)"
   ]
  },
  {
   "cell_type": "markdown",
   "metadata": {},
   "source": [
    "# Criando variáveis\n",
    "Variáveis ​​são contêineres para armazenar valores de dados.\n",
    "\n",
    "Diferente de outras linguagens de programação, o Python não tem comando para declarar uma variável.\n",
    "\n",
    "Uma variável é criada no momento em que você atribui um valor a ela.\n"
   ]
  },
  {
   "cell_type": "code",
   "execution_count": 5,
   "metadata": {},
   "outputs": [
    {
     "name": "stdout",
     "output_type": "stream",
     "text": [
      "Python\n",
      "2020\n",
      "50.0\n",
      "True\n"
     ]
    }
   ],
   "source": [
    "# nome da variável = tipo da variável\n",
    "curso = 'Python'\n",
    "ano = 2020\n",
    "preco = 50.00\n",
    "ativo = True\n",
    "\n",
    "print (curso)\n",
    "print (ano)\n",
    "print (preco)\n",
    "print (ativo)"
   ]
  },
  {
   "cell_type": "markdown",
   "metadata": {},
   "source": [
    "# Tipos de dados\n",
    "Na programação, o tipo de dados é um conceito importante.\n",
    "\n",
    "Variáveis ​​podem armazenar dados de tipos diferentes e tipos diferentes podem fazer coisas diferentes.\n",
    "\n",
    "- **int** -> Números inteiros\n",
    "- **float** -> Números reais \n",
    "- **str** -> String - coleção de caracteres - Textos\n",
    "- **bool** -> Expressão booleanas - True ou False\n",
    "\n",
    "- **type** ( )\n",
    "- Mostra o tipo da variável\n"
   ]
  },
  {
   "cell_type": "code",
   "execution_count": 6,
   "metadata": {},
   "outputs": [
    {
     "name": "stdout",
     "output_type": "stream",
     "text": [
      "<class 'str'>\n",
      "Cosmo\n",
      "<class 'int'>\n",
      "35\n",
      "<class 'float'>\n",
      "1.75\n",
      "<class 'bool'>\n",
      "True\n"
     ]
    }
   ],
   "source": [
    "nome = 'Cosmo' # int \n",
    "print (type(nome))\n",
    "print (nome)\n",
    "\n",
    "idade = 35 # int \n",
    "print (type(idade))\n",
    "print (idade)\n",
    "\n",
    "altura = 1.75 # float\n",
    "print (type(altura))\n",
    "print (altura)\n",
    "\n",
    "casado = True\n",
    "print (type(casado))\n",
    "print (casado)"
   ]
  },
  {
   "cell_type": "markdown",
   "metadata": {},
   "source": [
    "#  Python Strings\n",
    "- string em python são cercados por aspas simples ou aspas duplas -> 'Python' , \"Python\" .\n",
    "\n",
    "## Strings multilinhas\n",
    "- Você pode atribuir uma sequência multilinha a uma variável usando três aspas:\n",
    "    \n",
    "        \n",
    "        "
   ]
  },
  {
   "cell_type": "code",
   "execution_count": 7,
   "metadata": {},
   "outputs": [
    {
     "name": "stdout",
     "output_type": "stream",
     "text": [
      "Python\n",
      "Python\n",
      " Lorem ipsum dolor sit amet,\n",
      "consectetur adipiscing elit,\n",
      "sed do eiusmod tempor incididunt\n",
      "ut labore et dolore magna aliqua \n"
     ]
    }
   ],
   "source": [
    "print ('Python')\n",
    "\n",
    "print (\"Python\")\n",
    "\n",
    "print (''' Lorem ipsum dolor sit amet,\n",
    "consectetur adipiscing elit,\n",
    "sed do eiusmod tempor incididunt\n",
    "ut labore et dolore magna aliqua ''')"
   ]
  },
  {
   "cell_type": "markdown",
   "metadata": {},
   "source": [
    "#  Fatiamento\n",
    "Você pode retornar um intervalo de caracteres usando a sintaxe da fatia.\n",
    "\n",
    "Especifique o índice inicial e o índice final, separados por dois pontos, para retornar uma parte da sequência.\n",
    "\n",
    "- **len** ( ) -> Mostra o tamanho da string"
   ]
  },
  {
   "cell_type": "code",
   "execution_count": 8,
   "metadata": {},
   "outputs": [
    {
     "name": "stdout",
     "output_type": "stream",
     "text": [
      "15\n"
     ]
    }
   ],
   "source": [
    "# 0 1 2 3 4 5 6 7 8 9 10 11 12 13 14\n",
    "# C u r s o   d e   P  y t  h  o  n\n",
    "\n",
    "curso = 'Curso de Python'\n",
    "print (len(curso))\n"
   ]
  },
  {
   "cell_type": "code",
   "execution_count": 15,
   "metadata": {},
   "outputs": [
    {
     "name": "stdout",
     "output_type": "stream",
     "text": [
      "P\n",
      "Curso\n",
      "de Python\n"
     ]
    }
   ],
   "source": [
    "print (curso[9]) \n",
    "print (curso[0:5])\n",
    "print (curso[6:15])\n"
   ]
  },
  {
   "cell_type": "markdown",
   "metadata": {},
   "source": [
    "#  Métodos de String\n",
    "- O Python possui um conjunto de métodos internos que você pode usar em strings.\n",
    "- O **strip** () método remove qualquer espaço em branco do começo ou do fim:\n",
    "- O **lower** ()método retorna a string em minúsculas:\n",
    "- O **upper** ()método retorna a string em maiúsculas:\n",
    "- O **replace** ()método substitui uma string por outra string:\n",
    "- O **split** ()método divide a string em substrings se encontrar instâncias do separador:\n",
    "- Para verificar se uma determinada frase ou caractere está presente em uma string, podemos usar as palavras-chave **in** ou **not in**.\n",
    "\n",
    "\n"
   ]
  },
  {
   "cell_type": "code",
   "execution_count": 18,
   "metadata": {},
   "outputs": [
    {
     "name": "stdout",
     "output_type": "stream",
     "text": [
      "       Curso de Python          \n",
      "Curso de Python\n"
     ]
    }
   ],
   "source": [
    "# strip ()\n",
    "curso = '       Curso de Python          '\n",
    "print (curso)\n",
    "print (curso.strip())"
   ]
  },
  {
   "cell_type": "code",
   "execution_count": 19,
   "metadata": {},
   "outputs": [
    {
     "name": "stdout",
     "output_type": "stream",
     "text": [
      "curso de python\n"
     ]
    }
   ],
   "source": [
    "#lower ()\n",
    "curso = 'Curso de Python'\n",
    "print (curso.lower())"
   ]
  },
  {
   "cell_type": "code",
   "execution_count": 20,
   "metadata": {},
   "outputs": [
    {
     "name": "stdout",
     "output_type": "stream",
     "text": [
      "CURSO DE PYTHON\n"
     ]
    }
   ],
   "source": [
    "# upper ()\n",
    "curso = 'Curso de Python'\n",
    "print (curso.upper())"
   ]
  },
  {
   "cell_type": "code",
   "execution_count": 21,
   "metadata": {},
   "outputs": [
    {
     "name": "stdout",
     "output_type": "stream",
     "text": [
      "Curso d3 Python\n"
     ]
    }
   ],
   "source": [
    "# replace ()\n",
    "curso = 'Curso de Python'\n",
    "print(curso.replace('e','3'))"
   ]
  },
  {
   "cell_type": "code",
   "execution_count": 22,
   "metadata": {},
   "outputs": [
    {
     "name": "stdout",
     "output_type": "stream",
     "text": [
      "['Curso', 'de', 'Python']\n"
     ]
    }
   ],
   "source": [
    "#  split()\n",
    "curso = 'Curso de Python'\n",
    "print (curso.split())\n"
   ]
  },
  {
   "cell_type": "code",
   "execution_count": 23,
   "metadata": {},
   "outputs": [
    {
     "name": "stdout",
     "output_type": "stream",
     "text": [
      "True\n",
      "False\n"
     ]
    }
   ],
   "source": [
    "# in ou not in\n",
    "curso = 'Curso de Python'\n",
    "x = 'de' in curso\n",
    "z = 'de' not in curso\n",
    "print (x)\n",
    "print (z)"
   ]
  },
  {
   "cell_type": "markdown",
   "metadata": {},
   "source": [
    "#  Operadores Python\n",
    "Operadores são usados ​​para executar operações em variáveis ​​e valores.\n",
    "\n",
    "### Python divide os operadores nos seguintes grupos:\n",
    "\n",
    "- Operadores aritméticos\n",
    "- Operadores de atribuição\n",
    "- Operadores de comparação\n",
    "- Operadores lógicos\n",
    "- Operadores de identidade\n",
    "- Operadores de associação\n",
    "- Operadores bit a bit"
   ]
  },
  {
   "cell_type": "markdown",
   "metadata": {},
   "source": [
    "##  Operadores aritméticos de Python\n",
    "- Operadores aritméticos são usados ​​com valores numéricos para executar operações matemáticas comuns:\n",
    "\n",
    "- **+**\t Adição\t           x + y\t\n",
    "- **-**\t Subtração\t       x - y\t\n",
    "- *****\t Multiplicação     x * y\t\n",
    "- **/**  Divisão\t       x / y\t\n",
    "- **%**\t Modulo            x % y\t\n",
    "- ****** Exponenciação\t   x ** y\t\n",
    "- **//** Resto da  divisão  x // y"
   ]
  },
  {
   "cell_type": "code",
   "execution_count": 24,
   "metadata": {},
   "outputs": [],
   "source": [
    "x = 10\n",
    "y = 3\n"
   ]
  },
  {
   "cell_type": "code",
   "execution_count": 25,
   "metadata": {},
   "outputs": [
    {
     "name": "stdout",
     "output_type": "stream",
     "text": [
      "13\n"
     ]
    }
   ],
   "source": [
    "print (x + y)"
   ]
  },
  {
   "cell_type": "code",
   "execution_count": 26,
   "metadata": {},
   "outputs": [
    {
     "name": "stdout",
     "output_type": "stream",
     "text": [
      "7\n"
     ]
    }
   ],
   "source": [
    "print (x - y)"
   ]
  },
  {
   "cell_type": "code",
   "execution_count": 27,
   "metadata": {},
   "outputs": [
    {
     "name": "stdout",
     "output_type": "stream",
     "text": [
      "30\n"
     ]
    }
   ],
   "source": [
    "print (x * y)"
   ]
  },
  {
   "cell_type": "code",
   "execution_count": 28,
   "metadata": {},
   "outputs": [
    {
     "name": "stdout",
     "output_type": "stream",
     "text": [
      "3.3333333333333335\n"
     ]
    }
   ],
   "source": [
    "print (x / y)"
   ]
  },
  {
   "cell_type": "code",
   "execution_count": 29,
   "metadata": {},
   "outputs": [
    {
     "name": "stdout",
     "output_type": "stream",
     "text": [
      "1\n"
     ]
    }
   ],
   "source": [
    "print (x % y)"
   ]
  },
  {
   "cell_type": "code",
   "execution_count": 30,
   "metadata": {},
   "outputs": [
    {
     "name": "stdout",
     "output_type": "stream",
     "text": [
      "3\n"
     ]
    }
   ],
   "source": [
    "print (x // y)"
   ]
  },
  {
   "cell_type": "code",
   "execution_count": 33,
   "metadata": {},
   "outputs": [
    {
     "name": "stdout",
     "output_type": "stream",
     "text": [
      "1000\n"
     ]
    }
   ],
   "source": [
    "print (x ** y)"
   ]
  },
  {
   "cell_type": "markdown",
   "metadata": {},
   "source": [
    "#   Operadores de atribuição do Python\n",
    "- Operadores de atribuição são usados ​​para atribuir valores a variáveis:\n",
    "       "
   ]
  },
  {
   "cell_type": "code",
   "execution_count": 34,
   "metadata": {},
   "outputs": [],
   "source": [
    "# =          x = 5    \n",
    "# +=         x+= 3   x = x + 3\n",
    "# -=         x-= 3   x = x - 3\n"
   ]
  },
  {
   "cell_type": "code",
   "execution_count": 35,
   "metadata": {},
   "outputs": [
    {
     "name": "stdout",
     "output_type": "stream",
     "text": [
      "8\n"
     ]
    }
   ],
   "source": [
    "x = 5\n",
    "x += 3\n",
    "\n",
    "print(x)\n"
   ]
  },
  {
   "cell_type": "code",
   "execution_count": 36,
   "metadata": {},
   "outputs": [
    {
     "name": "stdout",
     "output_type": "stream",
     "text": [
      "2\n"
     ]
    }
   ],
   "source": [
    "x = 5\n",
    "x -= 3\n",
    "\n",
    "print(x)\n"
   ]
  },
  {
   "cell_type": "markdown",
   "metadata": {},
   "source": [
    "#  Operadores de comparação Python\n",
    "## Operadores de comparação são usados ​​para comparar dois valores:\n"
   ]
  },
  {
   "cell_type": "code",
   "execution_count": null,
   "metadata": {},
   "outputs": [],
   "source": [
    "\n",
    "Operador   \tNome\t                  Examplo\t\n",
    "==\t        igual                      x == y\t\n",
    "!=\t        Diferente\t               x != y\t\n",
    ">\t        Maior que\t               x > y\t\n",
    "<\t        Menos que \t               x < y\t\n",
    ">=\t        Maior ou iguall            x >= y\t\n",
    "<=\t       \tMenor ou igual             x <= y\n"
   ]
  },
  {
   "cell_type": "code",
   "execution_count": 38,
   "metadata": {},
   "outputs": [
    {
     "name": "stdout",
     "output_type": "stream",
     "text": [
      "False\n",
      "True\n",
      "True\n",
      "False\n",
      "True\n",
      "False\n"
     ]
    }
   ],
   "source": [
    "x = 5\n",
    "y = 3\n",
    "\n",
    "print(x == y)\n",
    "print(x != y)\n",
    "print(x > y)\n",
    "print(x < y)\n",
    "print(x >= y)\n",
    "print(x <= y)\n",
    "\n"
   ]
  },
  {
   "cell_type": "markdown",
   "metadata": {},
   "source": [
    " # Operadores lógicos Python\n",
    "## Operadores lógicos são usados ​​para combinar instruções condicionais:"
   ]
  },
  {
   "cell_type": "code",
   "execution_count": null,
   "metadata": {},
   "outputs": [],
   "source": [
    "Operador \t    Descrição\t\n",
    "and             Retorna True se as duas instruções forem verdadeiras\t\n",
    "or              Retorna True se uma das instruções for verdadeira\t\n",
    "not             inverter o resultado, retorna False se o resultado for verdadeiro\n"
   ]
  },
  {
   "cell_type": "code",
   "execution_count": 40,
   "metadata": {},
   "outputs": [
    {
     "name": "stdout",
     "output_type": "stream",
     "text": [
      "True\n"
     ]
    }
   ],
   "source": [
    "x = 5\n",
    "\n",
    "print(x > 3 and x < 10)\n"
   ]
  },
  {
   "cell_type": "code",
   "execution_count": 41,
   "metadata": {},
   "outputs": [
    {
     "name": "stdout",
     "output_type": "stream",
     "text": [
      "True\n"
     ]
    }
   ],
   "source": [
    "x = 5\n",
    "\n",
    "print(x > 3 or x < 4)"
   ]
  },
  {
   "cell_type": "code",
   "execution_count": 42,
   "metadata": {},
   "outputs": [
    {
     "name": "stdout",
     "output_type": "stream",
     "text": [
      "False\n"
     ]
    }
   ],
   "source": [
    "x = 5\n",
    "\n",
    "print(not(x > 3 and x < 10))"
   ]
  },
  {
   "cell_type": "markdown",
   "metadata": {},
   "source": [
    "#  Operadores de identidade Python\n",
    "## Os operadores de identidade são usados ​​para comparar os objetos, não se forem iguais, mas se forem realmente o mesmo objeto, com o mesmo local de memória:"
   ]
  },
  {
   "cell_type": "code",
   "execution_count": null,
   "metadata": {},
   "outputs": [],
   "source": [
    "is       Retorna True se as duas variáveis forem o mesmo objeto\n",
    "is not   Retorna True se as duas variáveis não forem o mesmo objeto"
   ]
  },
  {
   "cell_type": "code",
   "execution_count": 43,
   "metadata": {},
   "outputs": [
    {
     "name": "stdout",
     "output_type": "stream",
     "text": [
      "True\n"
     ]
    }
   ],
   "source": [
    "x = [\"apple\", \"banana\"]\n",
    "y = [\"apple\", \"banana\"]\n",
    "z = x\n",
    "\n",
    "print(x is z)"
   ]
  },
  {
   "cell_type": "code",
   "execution_count": 44,
   "metadata": {},
   "outputs": [
    {
     "name": "stdout",
     "output_type": "stream",
     "text": [
      "False\n"
     ]
    }
   ],
   "source": [
    "x = [\"apple\", \"banana\"]\n",
    "y = [\"apple\", \"banana\"]\n",
    "z = x\n",
    "\n",
    "print(x is not z)\n"
   ]
  },
  {
   "cell_type": "markdown",
   "metadata": {},
   "source": [
    "# Entrada de dados\n",
    "### input ()"
   ]
  },
  {
   "cell_type": "code",
   "execution_count": 45,
   "metadata": {},
   "outputs": [
    {
     "name": "stdout",
     "output_type": "stream",
     "text": [
      "Digite seu nome: Cosmo\n",
      "Cosmo\n"
     ]
    }
   ],
   "source": [
    "nome = input ('Digite seu nome: ')\n",
    "print (nome)"
   ]
  },
  {
   "cell_type": "markdown",
   "metadata": {},
   "source": [
    "# Listas de Python\n",
    "## Lista [ ]\n",
    "- Uma lista é uma coleção que é ordenada e mutável. No Python, as listas são escritas com colchetes.\n",
    "\n"
   ]
  },
  {
   "cell_type": "code",
   "execution_count": 46,
   "metadata": {},
   "outputs": [
    {
     "name": "stdout",
     "output_type": "stream",
     "text": [
      "['maçã', 'banana', 'cereja']\n"
     ]
    }
   ],
   "source": [
    "lista = [\"maçã\", \"banana\", \"cereja\"]\n",
    "print (lista)"
   ]
  },
  {
   "cell_type": "code",
   "execution_count": 47,
   "metadata": {},
   "outputs": [
    {
     "name": "stdout",
     "output_type": "stream",
     "text": [
      "banana\n"
     ]
    }
   ],
   "source": [
    "# Você acessa os itens da lista consultando o número do índice:\n",
    "\n",
    "lista = [\"maçã\", \"banana\", \"cereja\"]\n",
    "print (lista[1])"
   ]
  },
  {
   "cell_type": "code",
   "execution_count": 48,
   "metadata": {},
   "outputs": [
    {
     "name": "stdout",
     "output_type": "stream",
     "text": [
      "['cereja', 'laranja', 'kiwi']\n"
     ]
    }
   ],
   "source": [
    "# Intervalo de índices\n",
    "# Você pode especificar um intervalo de índices especificando por onde começar e \n",
    "# por onde terminar o intervalo.\n",
    "\n",
    "# Ao especificar um intervalo, o valor retornado será uma nova lista com os itens especificados.\n",
    "\n",
    "frutas = [\"maçã\", \"banana\", \"cereja\", \"laranja\", \"kiwi\", \"melão\", \"manga\"]\n",
    "print (frutas[2:5])"
   ]
  },
  {
   "cell_type": "code",
   "execution_count": 49,
   "metadata": {},
   "outputs": [
    {
     "name": "stdout",
     "output_type": "stream",
     "text": [
      "['maçã', 'banana', 'cereja', 'laranja']\n"
     ]
    }
   ],
   "source": [
    "print (frutas[:4])"
   ]
  },
  {
   "cell_type": "code",
   "execution_count": 50,
   "metadata": {},
   "outputs": [
    {
     "name": "stdout",
     "output_type": "stream",
     "text": [
      "['cereja', 'laranja', 'kiwi', 'melão', 'manga']\n"
     ]
    }
   ],
   "source": [
    "print (frutas[2:])"
   ]
  },
  {
   "cell_type": "code",
   "execution_count": 51,
   "metadata": {},
   "outputs": [
    {
     "name": "stdout",
     "output_type": "stream",
     "text": [
      "['maçã', 'uva', 'cereja']\n"
     ]
    }
   ],
   "source": [
    "# Alterar valor do item\n",
    "# Para alterar o valor de um item específico, consulte o número do índice:\n",
    "\n",
    "lista = ['maçã', 'banana', 'cereja']\n",
    "lista [1] = 'uva'\n",
    "print (lista)\n"
   ]
  },
  {
   "cell_type": "markdown",
   "metadata": {},
   "source": [
    "##  Adicionar itens\n",
    "- Para adicionar um item ao final da lista, use o método **append**() :"
   ]
  },
  {
   "cell_type": "code",
   "execution_count": 52,
   "metadata": {},
   "outputs": [
    {
     "name": "stdout",
     "output_type": "stream",
     "text": [
      "['maçã', 'banana', 'cereja', 'abacaxi']\n"
     ]
    }
   ],
   "source": [
    "lista = ['maçã', 'banana', 'cereja']\n",
    "lista.append ('abacaxi')\n",
    "print (lista)"
   ]
  },
  {
   "cell_type": "markdown",
   "metadata": {},
   "source": [
    "### Para adicionar um item ao índice especificado\n",
    "- use o método **insert** () :"
   ]
  },
  {
   "cell_type": "code",
   "execution_count": 54,
   "metadata": {},
   "outputs": [
    {
     "name": "stdout",
     "output_type": "stream",
     "text": [
      "['maçã', 'banana', 'laranja', 'cereja', 'abacaxi']\n"
     ]
    }
   ],
   "source": [
    "frutas = ['maçã', 'banana', 'cereja', 'abacaxi']\n",
    "frutas.insert (2, 'laranja')\n",
    "print (frutas)"
   ]
  },
  {
   "cell_type": "markdown",
   "metadata": {},
   "source": [
    "### Remover item\n",
    "- Existem vários métodos para remover itens de uma lista:\n",
    "- O **remove** ()  método remove o item especificado:"
   ]
  },
  {
   "cell_type": "code",
   "execution_count": 55,
   "metadata": {},
   "outputs": [
    {
     "name": "stdout",
     "output_type": "stream",
     "text": [
      "['maçã', 'banana', 'abacaxi']\n"
     ]
    }
   ],
   "source": [
    "frutas = ['maçã', 'banana', 'cereja', 'abacaxi']\n",
    "frutas.remove ('cereja')\n",
    "print (frutas)"
   ]
  },
  {
   "cell_type": "markdown",
   "metadata": {},
   "source": [
    "- O **pop** () método remove o índice especificado (ou o último item se o índice não for especificado):"
   ]
  },
  {
   "cell_type": "code",
   "execution_count": 57,
   "metadata": {},
   "outputs": [
    {
     "name": "stdout",
     "output_type": "stream",
     "text": [
      "['maçã', 'banana']\n"
     ]
    }
   ],
   "source": [
    "frutas = ['maçã', 'banana', 'abacaxi' ]\n",
    "frutas.pop ()\n",
    "print (frutas)"
   ]
  },
  {
   "cell_type": "markdown",
   "metadata": {},
   "source": [
    "- A **del** palavra-chave remove o índice especificado:"
   ]
  },
  {
   "cell_type": "code",
   "execution_count": 59,
   "metadata": {},
   "outputs": [
    {
     "name": "stdout",
     "output_type": "stream",
     "text": [
      "['banana', 'abacaxi']\n"
     ]
    }
   ],
   "source": [
    "frutas = ['maçã', 'banana', 'abacaxi' ]\n",
    "del frutas[0]\n",
    "print (frutas)"
   ]
  },
  {
   "cell_type": "markdown",
   "metadata": {},
   "source": [
    "- O **clear** ()  método esvazia a lista:"
   ]
  },
  {
   "cell_type": "code",
   "execution_count": 60,
   "metadata": {},
   "outputs": [
    {
     "name": "stdout",
     "output_type": "stream",
     "text": [
      "[]\n"
     ]
    }
   ],
   "source": [
    "frutas = ['maçã', 'banana', 'abacaxi' ]\n",
    "frutas.clear()\n",
    "print (frutas)"
   ]
  },
  {
   "cell_type": "markdown",
   "metadata": {},
   "source": [
    "##  O construtor list ()\n",
    "- Também é possível usar o construtor **list** () para criar uma nova lista.\n",
    "- Usando o list() construtor para fazer uma lista:"
   ]
  },
  {
   "cell_type": "code",
   "execution_count": 63,
   "metadata": {},
   "outputs": [
    {
     "name": "stdout",
     "output_type": "stream",
     "text": [
      "['verde', 'azul', 'roxo']\n"
     ]
    }
   ],
   "source": [
    "cores = list (('verde','azul', 'roxo'))\n",
    "print (cores)"
   ]
  },
  {
   "cell_type": "markdown",
   "metadata": {},
   "source": [
    "## Tuplas\n",
    "- Uma tupla é uma coleção ordenada e imutável .\n",
    "- No Python, as tuplas são escritas com parênteses ( ) ."
   ]
  },
  {
   "cell_type": "code",
   "execution_count": 64,
   "metadata": {},
   "outputs": [
    {
     "name": "stdout",
     "output_type": "stream",
     "text": [
      "('verde', 'azul', 'roxo')\n"
     ]
    }
   ],
   "source": [
    "cores = ('verde', 'azul', 'roxo')\n",
    "print (cores)"
   ]
  },
  {
   "cell_type": "markdown",
   "metadata": {},
   "source": [
    "###  Acessar itens da tupla\n",
    "- Você pode acessar itens da tupla consultando o número do índice, entre colchetes:"
   ]
  },
  {
   "cell_type": "code",
   "execution_count": 65,
   "metadata": {},
   "outputs": [
    {
     "name": "stdout",
     "output_type": "stream",
     "text": [
      "verde\n"
     ]
    }
   ],
   "source": [
    "cores = ('verde', 'azul', 'roxo')\n",
    "print (cores[0])"
   ]
  },
  {
   "cell_type": "markdown",
   "metadata": {},
   "source": [
    "### Remover itens\n",
    "- Nota: Você não pode remover itens em uma tupla.\n",
    "\n",
    "- As tuplas são imutáveis , portanto você não pode remover itens, mas é possível excluir a tupla completamente:\n",
    "\n",
    "- A **del** palavra-chave pode excluir completamente a tupla:"
   ]
  },
  {
   "cell_type": "code",
   "execution_count": 67,
   "metadata": {},
   "outputs": [],
   "source": [
    "cores = ('verde', 'azul', 'roxo')\n",
    "del cores"
   ]
  },
  {
   "cell_type": "code",
   "execution_count": 68,
   "metadata": {},
   "outputs": [
    {
     "ename": "NameError",
     "evalue": "name 'cores' is not defined",
     "output_type": "error",
     "traceback": [
      "\u001b[1;31m---------------------------------------------------------------------------\u001b[0m",
      "\u001b[1;31mNameError\u001b[0m                                 Traceback (most recent call last)",
      "\u001b[1;32m<ipython-input-68-724034ae01c7>\u001b[0m in \u001b[0;36m<module>\u001b[1;34m\u001b[0m\n\u001b[1;32m----> 1\u001b[1;33m \u001b[0mprint\u001b[0m \u001b[1;33m(\u001b[0m\u001b[0mcores\u001b[0m\u001b[1;33m)\u001b[0m\u001b[1;33m\u001b[0m\u001b[1;33m\u001b[0m\u001b[0m\n\u001b[0m",
      "\u001b[1;31mNameError\u001b[0m: name 'cores' is not defined"
     ]
    }
   ],
   "source": [
    "print (cores)"
   ]
  },
  {
   "cell_type": "markdown",
   "metadata": {},
   "source": [
    "#  Conjuntos Python - Sets\n",
    "\n",
    "- Um conjunto é uma coleção não ordenada e não indexada. No Python, os conjuntos são escritos com chaves { }.\n",
    "\n",
    "- Nota: Os conjuntos não são ordenados, portanto, você não pode ter certeza de qual ordem os itens serão exibidos\n",
    "\n"
   ]
  },
  {
   "cell_type": "code",
   "execution_count": 69,
   "metadata": {},
   "outputs": [
    {
     "name": "stdout",
     "output_type": "stream",
     "text": [
      "{'verde', 'laranja', 'azul'}\n"
     ]
    }
   ],
   "source": [
    "cores = {'verde', 'azul', 'laranja'}\n",
    "print (cores)"
   ]
  },
  {
   "cell_type": "markdown",
   "metadata": {},
   "source": [
    "##  Alterar itens\n",
    "- Depois que um conjunto é criado, você não pode alterar seus itens, mas pode adicionar novos itens.\n",
    "\n",
    "- Adicionar itens\n",
    "- Para adicionar um item a um conjunto, use o método **add** () \n",
    "- Para adicionar mais de um item a um conjunto, use o método **update** () "
   ]
  },
  {
   "cell_type": "code",
   "execution_count": 70,
   "metadata": {},
   "outputs": [
    {
     "name": "stdout",
     "output_type": "stream",
     "text": [
      "{'roxo', 'verde', 'laranja', 'azul'}\n"
     ]
    }
   ],
   "source": [
    "# Adicione um item a um conjunto, usando o add() método:\n",
    "cores = {'verde', 'azul', 'laranja'}\n",
    "cores.add('roxo')\n",
    "print (cores)"
   ]
  },
  {
   "cell_type": "code",
   "execution_count": 71,
   "metadata": {},
   "outputs": [
    {
     "name": "stdout",
     "output_type": "stream",
     "text": [
      "{'preto', 'amarelo', 'verde', 'laranja', 'azul', 'vermelho'}\n"
     ]
    }
   ],
   "source": [
    "# Adicione vários itens a um conjunto, usando o update() método:\n",
    "cores = {'verde', 'azul', 'laranja'}\n",
    "cores.update(['vermelho','preto','amarelo'])\n",
    "print (cores)"
   ]
  },
  {
   "cell_type": "markdown",
   "metadata": {},
   "source": [
    "### Remover item\n",
    "- Para remover um item de um conjunto, use o  método **remove** ( ), ou o **discard** ()"
   ]
  },
  {
   "cell_type": "code",
   "execution_count": 72,
   "metadata": {},
   "outputs": [
    {
     "name": "stdout",
     "output_type": "stream",
     "text": [
      "{'verde', 'laranja'}\n"
     ]
    }
   ],
   "source": [
    "cores = {'verde', 'azul', 'laranja'}\n",
    "cores.remove('azul')\n",
    "print (cores)"
   ]
  },
  {
   "cell_type": "markdown",
   "metadata": {},
   "source": [
    "# Dicionários em Python\n",
    "- Um dicionário é uma coleção desordenada, mutável e indexada. No Python, os dicionários são escritos  com chaves  e possuem chaves e valores."
   ]
  },
  {
   "cell_type": "code",
   "execution_count": 73,
   "metadata": {},
   "outputs": [
    {
     "name": "stdout",
     "output_type": "stream",
     "text": [
      "{'SP': 'São Paulo', 'DF': 'Distrito Federal', 'RJ': 'Rio de Janeiro'}\n"
     ]
    }
   ],
   "source": [
    "cidades = {\n",
    "    'SP': 'São Paulo',\n",
    "    'DF': 'Distrito Federal',\n",
    "    'RJ': 'Rio de Janeiro'\n",
    "}\n",
    "\n",
    "print (cidades)"
   ]
  },
  {
   "cell_type": "markdown",
   "metadata": {},
   "source": [
    "### Acessando itens\n",
    "- Você pode acessar os itens de um dicionário consultando o nome da chave, entre colchetes:"
   ]
  },
  {
   "cell_type": "code",
   "execution_count": 74,
   "metadata": {},
   "outputs": [
    {
     "name": "stdout",
     "output_type": "stream",
     "text": [
      "Distrito Federal\n"
     ]
    }
   ],
   "source": [
    "print (cidades['DF'])"
   ]
  },
  {
   "cell_type": "markdown",
   "metadata": {},
   "source": [
    "-  Também existe um método chamado **get**( )  que fornecerá o mesmo resultado:"
   ]
  },
  {
   "cell_type": "code",
   "execution_count": 75,
   "metadata": {},
   "outputs": [
    {
     "name": "stdout",
     "output_type": "stream",
     "text": [
      "São Paulo\n"
     ]
    }
   ],
   "source": [
    "print (cidades.get('SP'))"
   ]
  },
  {
   "cell_type": "markdown",
   "metadata": {},
   "source": [
    "### Mudar valores\n",
    "- Você pode alterar o valor de um item específico consultando o nome da chave:"
   ]
  },
  {
   "cell_type": "code",
   "execution_count": 76,
   "metadata": {},
   "outputs": [
    {
     "name": "stdout",
     "output_type": "stream",
     "text": [
      "{1: 'A', 2: 'B', 3: 'C'}\n",
      "{1: 'D', 2: 'B', 3: 'C'}\n"
     ]
    }
   ],
   "source": [
    "dic = {1 : 'A', 2: 'B', 3 : 'C'}\n",
    "print (dic)\n",
    "dic[1] = 'D'\n",
    "print (dic)"
   ]
  },
  {
   "cell_type": "markdown",
   "metadata": {},
   "source": [
    "- Você também pode usar a **values** ()função para retornar valores de um dicionário:"
   ]
  },
  {
   "cell_type": "code",
   "execution_count": 77,
   "metadata": {},
   "outputs": [
    {
     "name": "stdout",
     "output_type": "stream",
     "text": [
      "dict_values(['A', 'B', 'C'])\n"
     ]
    }
   ],
   "source": [
    "dic = {1 : 'A', 2: 'B', 3 : 'C'}\n",
    "print (dic.values())"
   ]
  },
  {
   "cell_type": "markdown",
   "metadata": {},
   "source": [
    "- Você também pode usar a **keys** ()função para retornar as chaves de um dicionário:"
   ]
  },
  {
   "cell_type": "code",
   "execution_count": 78,
   "metadata": {},
   "outputs": [
    {
     "name": "stdout",
     "output_type": "stream",
     "text": [
      "dict_keys([1, 2, 3])\n"
     ]
    }
   ],
   "source": [
    "dic = {1 : 'A', 2: 'B', 3 : 'C'}\n",
    "print (dic.keys())"
   ]
  },
  {
   "cell_type": "markdown",
   "metadata": {},
   "source": [
    "-  Você também pode usar o **items**  () função para retornar os  itens de um dicionário:"
   ]
  },
  {
   "cell_type": "code",
   "execution_count": 79,
   "metadata": {},
   "outputs": [
    {
     "name": "stdout",
     "output_type": "stream",
     "text": [
      "dict_items([(1, 'A'), (2, 'B'), (3, 'C')])\n"
     ]
    }
   ],
   "source": [
    "dic = {1 : 'A', 2: 'B', 3 : 'C'}\n",
    "print (dic.items())"
   ]
  },
  {
   "cell_type": "markdown",
   "metadata": {},
   "source": [
    "###  Removendo itens\n",
    "- O **pop** () método remove o item com o nome da chave especificado:"
   ]
  },
  {
   "cell_type": "code",
   "execution_count": 81,
   "metadata": {},
   "outputs": [
    {
     "name": "stdout",
     "output_type": "stream",
     "text": [
      "A\n",
      "{2: 'B', 3: 'C'}\n"
     ]
    }
   ],
   "source": [
    "dic = {1 : 'A', 2: 'B', 3 : 'C'}\n",
    "print (dic.pop(1))\n",
    "print (dic)"
   ]
  },
  {
   "cell_type": "markdown",
   "metadata": {},
   "source": [
    "# Python If ... Else\n"
   ]
  },
  {
   "cell_type": "code",
   "execution_count": 82,
   "metadata": {},
   "outputs": [
    {
     "name": "stdout",
     "output_type": "stream",
     "text": [
      "Maior\n"
     ]
    }
   ],
   "source": [
    "idade = 18 \n",
    "if idade >= 18:\n",
    "    print ('Maior')\n",
    "else:\n",
    "    print ('Menor')"
   ]
  },
  {
   "cell_type": "markdown",
   "metadata": {},
   "source": [
    "### Elif\n",
    "\n",
    "- A palavra-chave **elif** é uma forma em python de dizer \"se as condições anteriores não fossem verdadeiras, tente esta condição\"."
   ]
  },
  {
   "cell_type": "code",
   "execution_count": 91,
   "metadata": {},
   "outputs": [
    {
     "name": "stdout",
     "output_type": "stream",
     "text": [
      "adulto\n"
     ]
    }
   ],
   "source": [
    "idade = 18\n",
    "if idade < 12:\n",
    "    print('crianca')\n",
    "elif idade < 18:\n",
    "    print('adolescente')\n",
    "elif idade < 60:\n",
    "    print('adulto')\n",
    "else:\n",
    "    print('idoso')"
   ]
  },
  {
   "cell_type": "markdown",
   "metadata": {},
   "source": [
    "### Python Loops\n",
    "- O Python possui dois comandos primitivos de loop:\n",
    "- **while** loops\n",
    "- **for** loops"
   ]
  },
  {
   "cell_type": "markdown",
   "metadata": {},
   "source": [
    "## O loop while\n",
    "- Com o **while** podemos executar um conjunto de instruções enquanto uma condição for verdadeira."
   ]
  },
  {
   "cell_type": "code",
   "execution_count": 92,
   "metadata": {},
   "outputs": [
    {
     "name": "stdout",
     "output_type": "stream",
     "text": [
      "1\n",
      "2\n",
      "3\n",
      "4\n",
      "5\n"
     ]
    }
   ],
   "source": [
    "i = 1\n",
    "while i < 6:\n",
    "  print(i)\n",
    "  i += 1"
   ]
  },
  {
   "cell_type": "markdown",
   "metadata": {},
   "source": [
    "### A declaração break\n",
    "- Com a instrução **break** , podemos parar o loop mesmo se a condição while for verdadeira:"
   ]
  },
  {
   "cell_type": "code",
   "execution_count": 93,
   "metadata": {},
   "outputs": [
    {
     "name": "stdout",
     "output_type": "stream",
     "text": [
      "1\n",
      "2\n",
      "3\n"
     ]
    }
   ],
   "source": [
    "i = 1\n",
    "while i < 6:\n",
    "  print(i)\n",
    "  if i == 3:\n",
    "    break\n",
    "  i += 1"
   ]
  },
  {
   "cell_type": "markdown",
   "metadata": {},
   "source": [
    "### A declaração continue\n",
    "- Com a instrução **continue**  , podemos parar a iteração atual e continuar com a próxima:"
   ]
  },
  {
   "cell_type": "code",
   "execution_count": 94,
   "metadata": {},
   "outputs": [
    {
     "name": "stdout",
     "output_type": "stream",
     "text": [
      "1\n",
      "2\n",
      "4\n",
      "5\n",
      "6\n"
     ]
    }
   ],
   "source": [
    "i = 0\n",
    "while i < 6:\n",
    "  i += 1\n",
    "  if i == 3:\n",
    "    continue\n",
    "  print(i)"
   ]
  },
  {
   "cell_type": "markdown",
   "metadata": {},
   "source": [
    "### A declaração else\n",
    "- Com a instrução **else** , podemos executar um bloco de código uma vez quando a condição não for mais verdadeira:"
   ]
  },
  {
   "cell_type": "code",
   "execution_count": 95,
   "metadata": {},
   "outputs": [
    {
     "name": "stdout",
     "output_type": "stream",
     "text": [
      "1\n",
      "2\n",
      "3\n",
      "4\n",
      "5\n",
      "FIM !\n"
     ]
    }
   ],
   "source": [
    "i = 1\n",
    "while i < 6:\n",
    "  print(i)\n",
    "  i += 1\n",
    "else:\n",
    "  print('FIM !')\n"
   ]
  },
  {
   "cell_type": "markdown",
   "metadata": {},
   "source": [
    "# Loop For\n",
    "\n",
    "- Um laço **for**  é utilizado para a iteração através de uma sequência (isto é, quer uma lista, um tuplo, um dicionário, de um conjunto, ou uma cadeia).\n",
    "\n",
    "- Isso é menos parecido com a palavra-chave for em outras linguagens de programação e funciona mais como um método iterador, como encontrado em outras linguagens de programação orientadas a objetos.\n",
    "\n",
    "- Com o loop for , podemos executar um conjunto de instruções, uma vez para cada item de uma lista, tupla, conjunto etc."
   ]
  },
  {
   "cell_type": "code",
   "execution_count": 96,
   "metadata": {},
   "outputs": [
    {
     "name": "stdout",
     "output_type": "stream",
     "text": [
      "apple\n",
      "banana\n",
      "cherry\n"
     ]
    }
   ],
   "source": [
    "fruits = [\"apple\", \"banana\", \"cherry\"]\n",
    "for x in fruits:\n",
    "  print(x)"
   ]
  },
  {
   "cell_type": "markdown",
   "metadata": {},
   "source": [
    "## Loop através de strings\n",
    "- Mesmo seqüências de caracteres são objetos iteráveis, elas contêm uma sequência de caracteres:"
   ]
  },
  {
   "cell_type": "code",
   "execution_count": 97,
   "metadata": {},
   "outputs": [
    {
     "name": "stdout",
     "output_type": "stream",
     "text": [
      "C\n",
      "u\n",
      "r\n",
      "s\n",
      "o\n",
      " \n",
      "d\n",
      "e\n",
      " \n",
      "p\n",
      "y\n",
      "t\n",
      "h\n",
      "o\n",
      "n\n"
     ]
    }
   ],
   "source": [
    "curso = 'Curso de python'\n",
    "for x in curso:\n",
    "    print (x)"
   ]
  },
  {
   "cell_type": "markdown",
   "metadata": {},
   "source": [
    "## A função range ()\n",
    "- Para percorrer um conjunto de códigos um número especificado de vezes, podemos usar a função **range** () ,\n",
    "- A função range () retorna uma sequência de números, iniciando em 0 por padrão e incrementando em 1 (por padrão), e termina em um número especificado."
   ]
  },
  {
   "cell_type": "code",
   "execution_count": 98,
   "metadata": {},
   "outputs": [
    {
     "name": "stdout",
     "output_type": "stream",
     "text": [
      "0\n",
      "1\n",
      "2\n",
      "3\n",
      "4\n",
      "5\n",
      "6\n",
      "7\n",
      "8\n",
      "9\n"
     ]
    }
   ],
   "source": [
    "for x in range(10):\n",
    "  print(x)\n"
   ]
  },
  {
   "cell_type": "markdown",
   "metadata": {},
   "source": [
    "- A função range () é padronizada como 0 como valor inicial, no entanto, é possível especificar o valor inicial adicionando um parâmetro: range (2, 6) , que significa valores de 2 a 6 (mas não incluindo 6):"
   ]
  },
  {
   "cell_type": "code",
   "execution_count": 99,
   "metadata": {},
   "outputs": [
    {
     "name": "stdout",
     "output_type": "stream",
     "text": [
      "2\n",
      "3\n",
      "4\n",
      "5\n"
     ]
    }
   ],
   "source": [
    "for x in range(2, 6):\n",
    "  print(x)\n"
   ]
  },
  {
   "cell_type": "markdown",
   "metadata": {},
   "source": [
    "-  A função range () é padronizada para incrementar a sequência em 1, no entanto, é possível especificar o valor do incremento adicionando um terceiro parâmetro: range (2, 30, 3 ) : "
   ]
  },
  {
   "cell_type": "code",
   "execution_count": 100,
   "metadata": {},
   "outputs": [
    {
     "name": "stdout",
     "output_type": "stream",
     "text": [
      "2\n",
      "5\n",
      "8\n",
      "11\n",
      "14\n",
      "17\n",
      "20\n",
      "23\n",
      "26\n",
      "29\n"
     ]
    }
   ],
   "source": [
    "for x in range(2, 30, 3):\n",
    "  print(x)\n"
   ]
  },
  {
   "cell_type": "markdown",
   "metadata": {},
   "source": [
    "# Funções em Python\n",
    "- Uma função é um bloco de código que só é executado quando é chamado.\n",
    "\n",
    "- Você pode passar dados, conhecidos como parâmetros, para uma função.\n",
    "\n",
    "- Uma função pode retornar dados como resultado.\n",
    "\n",
    "- Criando uma Função\n",
    "- Em Python, uma função é definida usando a palavra-chave **def** :\n",
    "\n",
    "\n"
   ]
  },
  {
   "cell_type": "code",
   "execution_count": null,
   "metadata": {},
   "outputs": [],
   "source": [
    "def minha_func():\n",
    "    print ('Esta é minha função')"
   ]
  },
  {
   "cell_type": "markdown",
   "metadata": {},
   "source": [
    "- Chamando uma função\n",
    "- Para chamar uma função, use o nome da função seguido por parênteses:"
   ]
  },
  {
   "cell_type": "code",
   "execution_count": 101,
   "metadata": {},
   "outputs": [
    {
     "name": "stdout",
     "output_type": "stream",
     "text": [
      "Esta é minha função\n"
     ]
    }
   ],
   "source": [
    "def minha_func():\n",
    "    print ('Esta é minha função')\n",
    "    \n",
    "minha_func ()    "
   ]
  },
  {
   "cell_type": "markdown",
   "metadata": {},
   "source": [
    "### Argumentos\n",
    "- As informações podem ser passadas para funções como argumentos.\n",
    "\n",
    "- Os argumentos são especificados após o nome da função, entre parênteses. Você pode adicionar quantos argumentos quiser, basta separá-los com uma vírgula."
   ]
  },
  {
   "cell_type": "code",
   "execution_count": 102,
   "metadata": {},
   "outputs": [
    {
     "name": "stdout",
     "output_type": "stream",
     "text": [
      "Olá!\n",
      "Olá tudo bem!\n",
      "Olá como vai!\n"
     ]
    }
   ],
   "source": [
    "def minha_func(saudacao):\n",
    "    print (saudacao)\n",
    "    \n",
    "minha_func('Olá!')   \n",
    "minha_func('Olá tudo bem!')   \n",
    "minha_func('Olá como vai!')   "
   ]
  },
  {
   "cell_type": "markdown",
   "metadata": {},
   "source": [
    "## Argumentos arbitrários, * args\n",
    "- Se você não souber quantos argumentos serão passados ​​para sua função, adicione a *antes do nome do parâmetro na definição da função.\n",
    "\n"
   ]
  },
  {
   "cell_type": "code",
   "execution_count": 104,
   "metadata": {},
   "outputs": [
    {
     "name": "stdout",
     "output_type": "stream",
     "text": [
      "('azul', 'verde', 'roxo', 'amarelo')\n"
     ]
    }
   ],
   "source": [
    "def minha_func(*args):\n",
    "    print (args)\n",
    "    \n",
    "minha_func('azul', 'verde','roxo', 'amarelo')    "
   ]
  },
  {
   "cell_type": "markdown",
   "metadata": {},
   "source": [
    "## Argumentos arbitrários de palavras-chave, ** kwargs\n",
    "- Se você não souber quantos argumentos de palavra-chave serão passados ​​para sua função, adicione dois asterisco: ** antes do nome do parâmetro na definição da função.\n",
    "\n",
    "- Dessa forma, a função receberá um dicionário de argumentos e poderá acessar os itens de acordo:"
   ]
  },
  {
   "cell_type": "code",
   "execution_count": 105,
   "metadata": {},
   "outputs": [
    {
     "name": "stdout",
     "output_type": "stream",
     "text": [
      "{'nome': 'Cosmo', 'idade': 35}\n"
     ]
    }
   ],
   "source": [
    "def minha_func(**kwargs):\n",
    "    print (kwargs)\n",
    "    \n",
    "minha_func(nome='Cosmo',idade=35)    \n",
    "    "
   ]
  },
  {
   "cell_type": "markdown",
   "metadata": {},
   "source": [
    "## Retornar valores\n",
    "- Para permitir que uma função retorne um valor, use a  instrução **return** :"
   ]
  },
  {
   "cell_type": "code",
   "execution_count": 106,
   "metadata": {},
   "outputs": [
    {
     "name": "stdout",
     "output_type": "stream",
     "text": [
      "13\n"
     ]
    }
   ],
   "source": [
    "def minha_func(num1 , num2):\n",
    "    return num1 + num2\n",
    "\n",
    "print (minha_func(5,8))"
   ]
  },
  {
   "cell_type": "code",
   "execution_count": null,
   "metadata": {},
   "outputs": [],
   "source": []
  }
 ],
 "metadata": {
  "kernelspec": {
   "display_name": "Python 3",
   "language": "python",
   "name": "python3"
  },
  "language_info": {
   "codemirror_mode": {
    "name": "ipython",
    "version": 3
   },
   "file_extension": ".py",
   "mimetype": "text/x-python",
   "name": "python",
   "nbconvert_exporter": "python",
   "pygments_lexer": "ipython3",
   "version": "3.7.6"
  }
 },
 "nbformat": 4,
 "nbformat_minor": 4
}
